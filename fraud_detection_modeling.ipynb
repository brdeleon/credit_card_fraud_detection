{
 "cells": [
  {
   "cell_type": "markdown",
   "id": "7e72075a",
   "metadata": {},
   "source": [
    "# Credit Card Fraud Detection\n",
    "Author: Brenda De Leon\n",
    "\n",
    "Modeling: #### \n",
    "#### Libraries"
   ]
  },
  {
   "cell_type": "code",
   "execution_count": null,
   "id": "96fea101",
   "metadata": {},
   "outputs": [],
   "source": [
    "# importing libraries"
   ]
  },
  {
   "cell_type": "code",
   "execution_count": null,
   "id": "ec81b956",
   "metadata": {},
   "outputs": [],
   "source": [
    "# importing data"
   ]
  },
  {
   "cell_type": "markdown",
   "id": "acda3edb",
   "metadata": {},
   "source": [
    "## Evaluation Function"
   ]
  },
  {
   "cell_type": "code",
   "execution_count": null,
   "id": "aac39227",
   "metadata": {},
   "outputs": [],
   "source": [
    "# defining an evaluation classification function for automation and evaluating subsequent models\n",
    "def evaluate_classification(model, X_train, X_test, y_train, y_test, classes=None, \n",
    "                            normalize='true', cmap='cividis', label=''):\n",
    "    \n",
    "    \"\"\"Input a model, training data and test data to return sklearn metrics\n",
    "        - Classification Report for training and test \n",
    "        - PR AUC Score for training and test \n",
    "        - Confusion Matrix for training and test \n",
    "        - ROC Curve for training and test\n",
    "        - PR Curve for training and test\n",
    "        \n",
    "        Args:\n",
    "        model: instantiated classifier (ex: LogisticRegression = log_reg)\n",
    "        X_train: train_test_split & preprocessed\n",
    "        X_test: train_test_split \n",
    "        y_train: train_test_split & preprocessed\n",
    "        y_test: train_test_split \n",
    "        label: optional label for type of classifier \n",
    "        \n",
    "        Modified Function, Citation:\n",
    "        https://github.com/hpatel530/Chicago-Car-Crash-Data/blob/master/Chicage_Car_Crash.ipynb\n",
    "    \"\"\"\n",
    "    # retrieve predictions for train and test data \n",
    "    y_pred_train = model.predict(X_train)\n",
    "    y_pred_test = model.predict(X_test)\n",
    "    \n",
    "    # retrieve probabilites for train and test data \n",
    "    y_hat_train = model.predict_proba(X_train)\n",
    "    y_hat_test = model.predict_proba(X_test)\n",
    "    \n",
    "    # retrieve probabilities for the positive class\n",
    "    pos_probs_train = y_hat_train[:, 1]\n",
    "    pos_probs_test = y_hat_test[:, 1]\n",
    "    \n",
    "    # print training classification report \n",
    "    header = label + \" CLASSIFICATION REPORT TRAINING \"\n",
    "    dashes = \"---\" * 20\n",
    "    print(dashes, header, dashes, sep='\\n')\n",
    "    print(classification_report(y_train, y_pred_train, target_names=classes))\n",
    "    \n",
    "    # calculate precision-recall area under curve\n",
    "    # print training ap score\n",
    "    # ap_score = average_precision_score(y_train, y_pred_train)\n",
    "    # print('Training Area Under Precision-Recall Curve, measured by Average Precision score: %.3f' % ap_score)\n",
    "     \n",
    "    # display training figures \n",
    "    fig, axes = plt.subplots(nrows=1, ncols=3, figsize=(14,4))\n",
    "    \n",
    "    # plot confusion matrix \n",
    "    plot_confusion_matrix(model, X_train, y_train, labels=classes, normalize=normalize,\n",
    "                         cmap=cmap, ax=axes[0])\n",
    "    axes[0].set(title='Confusion Matrix Training')\n",
    "    \n",
    "    # plot ROC curve \n",
    "    plot_roc_curve(model, X_train, y_train, ax=axes[1], name=label)\n",
    "    roc = axes[1]\n",
    "    roc.plot([0,1], [0,1], ls=':', label='No Skill')\n",
    "    roc.grid()\n",
    "    roc.set_title('Receiving Operator Characteristic Training')\n",
    "    \n",
    "    # plot Precision-Recall curve\n",
    "    PrecisionRecallDisplay.from_estimator(model, X_train, y_train, ax=axes[2], name=label)\n",
    "    # y axis is Precision\n",
    "    axes[2].set_ylabel('Precision')\n",
    "    # x axis is Recall\n",
    "    axes[2].set_xlabel('Recall')\n",
    "    axes[2].set_title('Precision-Recall AUC Training')\n",
    "    plt.show()\n",
    "\n",
    "    # print testing classification report \n",
    "    header_ = label + \" CLASSIFICATION REPORT TESTING \"\n",
    "    print(dashes, header_, dashes, sep='\\n')\n",
    "    print(classification_report(y_test, y_pred_test, target_names=classes))\n",
    "    \n",
    "    # calculate precision-recall area under curve\n",
    "    # print testing ap score\n",
    "    # ap_score = average_precision_score(y_test, y_pred_test)\n",
    "    # print('Test Area Under Precision-Recall Curve, measured by Average Precision score: %.3f' % ap_score)\n",
    "    \n",
    "    # display testing figures \n",
    "    fig, axes = plt.subplots(nrows=1, ncols=3, figsize=(15,4))\n",
    "    \n",
    "    # plot confusion matrix \n",
    "    plot_confusion_matrix(model, X_test, y_test, labels=classes, normalize=normalize, \n",
    "                          cmap=cmap, ax=axes[0])\n",
    "    axes[0].set(title='Confusion Matrix Testing')\n",
    "    \n",
    "    # plot ROC curve \n",
    "    plot_roc_curve(model, X_test, y_test, ax=axes[1], name=label)\n",
    "    axes[1].plot([0,1], [0,1], ls=':', label='No Skill')\n",
    "    axes[1].grid()\n",
    "    axes[1].set_title('Receiving Operator Characteristic Test')\n",
    "\n",
    "    # plot Precision-Recall curve\n",
    "    PrecisionRecallDisplay.from_estimator(model, X_test, y_test, ax=axes[2], name=label)\n",
    "    # y axis is Precision\n",
    "    axes[2].set_ylabel('Precision')\n",
    "    # x axis is Recall\n",
    "    axes[2].set_xlabel('Recall')\n",
    "    axes[2].set_title('Precision-Recall AUC Test')\n",
    "    plt.legend()\n",
    "    plt.show()"
   ]
  },
  {
   "cell_type": "code",
   "execution_count": null,
   "id": "f8a59659",
   "metadata": {},
   "outputs": [],
   "source": []
  },
  {
   "cell_type": "code",
   "execution_count": null,
   "id": "dee12dc5",
   "metadata": {},
   "outputs": [],
   "source": []
  },
  {
   "cell_type": "markdown",
   "id": "97adbbc0",
   "metadata": {},
   "source": [
    "## Preprocessing"
   ]
  },
  {
   "cell_type": "code",
   "execution_count": null,
   "id": "abd465b4",
   "metadata": {},
   "outputs": [],
   "source": [
    "# categorical mini-pipeline for columntransformer. X, X_train, X_test have no numeric dtypes. \n",
    "# will return sparse matrix where each column corresponds to one possible value of one feature, default parameter\n",
    "subpipe_cat = Pipeline(steps=[\n",
    "    ('ohe', OneHotEncoder(sparse=True, handle_unknown='ignore'))\n",
    "])\n"
   ]
  },
  {
   "cell_type": "markdown",
   "id": "2a45137b",
   "metadata": {},
   "source": [
    "## Column Transformer"
   ]
  },
  {
   "cell_type": "markdown",
   "id": "21c57d45",
   "metadata": {},
   "source": [
    "Pipelines will include columntransformer ('CT') to take care of preprocessing & adding data back into original dataset"
   ]
  },
  {
   "cell_type": "code",
   "execution_count": null,
   "id": "9bec56c4",
   "metadata": {},
   "outputs": [],
   "source": [
    "# creating columntransformer as 'CT'\n",
    "# columntransformer will one hot encode all non np.number dtypes\n",
    "# remainder data will pass through without transformation, instead of being dropped\n",
    "CT = ColumnTransformer(transformers=[\n",
    "     ('subpipe_cat', subpipe_cat, make_column_selector(dtype_exclude=np.number))], remainder='passthrough')\n",
    "\n"
   ]
  },
  {
   "cell_type": "markdown",
   "id": "62aeabb7",
   "metadata": {},
   "source": [
    "\n",
    "Robust Scaling \n",
    "next step?\n",
    "\n",
    "oversampling, smote, scaling, or removing outliers, or weighing? best method to deal with severe imbalance (and why)\n",
    "\n",
    "m"
   ]
  }
 ],
 "metadata": {
  "kernelspec": {
   "display_name": "Python (learn-env)",
   "language": "python",
   "name": "learn-env"
  },
  "language_info": {
   "codemirror_mode": {
    "name": "ipython",
    "version": 3
   },
   "file_extension": ".py",
   "mimetype": "text/x-python",
   "name": "python",
   "nbconvert_exporter": "python",
   "pygments_lexer": "ipython3",
   "version": "3.8.5"
  }
 },
 "nbformat": 4,
 "nbformat_minor": 5
}
